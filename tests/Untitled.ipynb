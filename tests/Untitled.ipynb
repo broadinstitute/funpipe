{
 "cells": [
  {
   "cell_type": "code",
   "execution_count": 5,
   "id": "263ee8dd",
   "metadata": {},
   "outputs": [],
   "source": [
    "from __future__ import division\n",
    "import re\n",
    "import sys\n",
    "from scipy.stats import binom_test\n",
    "import sys\n",
    "sys.path.append('../funpipe')\n",
    "from vcfrecord import vcfrecord"
   ]
  },
  {
   "cell_type": "code",
   "execution_count": 2,
   "id": "dd865b64",
   "metadata": {},
   "outputs": [],
   "source": [
    "temp = \"19\t111\t.\tA\tC\t9.6\t.\t.\tGT:HQ\t0|0:10,10\t0|0:10,10\t0/1:3,3\""
   ]
  },
  {
   "cell_type": "code",
   "execution_count": 3,
   "id": "31a976d3",
   "metadata": {},
   "outputs": [],
   "source": [
    "fields = temp.split('\\t')"
   ]
  },
  {
   "cell_type": "code",
   "execution_count": 4,
   "id": "15a97895",
   "metadata": {},
   "outputs": [
    {
     "data": {
      "text/plain": [
       "['19',\n",
       " '111',\n",
       " '.',\n",
       " 'A',\n",
       " 'C',\n",
       " '9.6',\n",
       " '.',\n",
       " '.',\n",
       " 'GT:HQ',\n",
       " '0|0:10,10',\n",
       " '0|0:10,10',\n",
       " '0/1:3,3']"
      ]
     },
     "execution_count": 4,
     "metadata": {},
     "output_type": "execute_result"
    }
   ],
   "source": [
    "fields"
   ]
  },
  {
   "cell_type": "code",
   "execution_count": 6,
   "id": "f6f32eb7",
   "metadata": {},
   "outputs": [],
   "source": [
    "record = vcfrecord(temp)"
   ]
  },
  {
   "cell_type": "code",
   "execution_count": 8,
   "id": "7c3d8a67",
   "metadata": {},
   "outputs": [
    {
     "data": {
      "text/plain": [
       "False"
      ]
     },
     "execution_count": 8,
     "metadata": {},
     "output_type": "execute_result"
    }
   ],
   "source": [
    "record.vcf_annot"
   ]
  },
  {
   "cell_type": "code",
   "execution_count": null,
   "id": "a2615b69",
   "metadata": {},
   "outputs": [],
   "source": []
  }
 ],
 "metadata": {
  "kernelspec": {
   "display_name": "Python 3 (ipykernel)",
   "language": "python",
   "name": "python3"
  },
  "language_info": {
   "codemirror_mode": {
    "name": "ipython",
    "version": 3
   },
   "file_extension": ".py",
   "mimetype": "text/x-python",
   "name": "python",
   "nbconvert_exporter": "python",
   "pygments_lexer": "ipython3",
   "version": "3.8.10"
  }
 },
 "nbformat": 4,
 "nbformat_minor": 5
}
